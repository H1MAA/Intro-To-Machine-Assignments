{
 "cells": [
  {
   "cell_type": "code",
   "execution_count": 21,
   "metadata": {},
   "outputs": [],
   "source": [
    "import numpy as np\n",
    "import pandas as pd\n",
    "\n",
    "def getEuclideanDistance(a, b):\n",
    "    return np.linalg.norm(a - b)\n",
    "\n",
    "def getNearestNeighbors(train, test, k):\n",
    "    distances = []\n",
    "    for i in range(len(train)):\n",
    "        distances.append((i, getEuclideanDistance(train[i], test)))\n",
    "    distances.sort(key=lambda x: x[1])\n",
    "    return distances[:k]"
   ]
  },
  {
   "cell_type": "code",
   "execution_count": 10,
   "metadata": {},
   "outputs": [
    {
     "data": {
      "text/html": [
       "<div>\n",
       "<style scoped>\n",
       "    .dataframe tbody tr th:only-of-type {\n",
       "        vertical-align: middle;\n",
       "    }\n",
       "\n",
       "    .dataframe tbody tr th {\n",
       "        vertical-align: top;\n",
       "    }\n",
       "\n",
       "    .dataframe thead th {\n",
       "        text-align: right;\n",
       "    }\n",
       "</style>\n",
       "<table border=\"1\" class=\"dataframe\">\n",
       "  <thead>\n",
       "    <tr style=\"text-align: right;\">\n",
       "      <th></th>\n",
       "      <th>Programming Languages</th>\n",
       "      <th>Delivered Assignments</th>\n",
       "      <th>GPA</th>\n",
       "      <th>Passed Exam</th>\n",
       "    </tr>\n",
       "  </thead>\n",
       "  <tbody>\n",
       "    <tr>\n",
       "      <th>0</th>\n",
       "      <td>3</td>\n",
       "      <td>5</td>\n",
       "      <td>3.1</td>\n",
       "      <td>1.0</td>\n",
       "    </tr>\n",
       "    <tr>\n",
       "      <th>1</th>\n",
       "      <td>3</td>\n",
       "      <td>5</td>\n",
       "      <td>2.0</td>\n",
       "      <td>0.0</td>\n",
       "    </tr>\n",
       "    <tr>\n",
       "      <th>2</th>\n",
       "      <td>2</td>\n",
       "      <td>7</td>\n",
       "      <td>3.5</td>\n",
       "      <td>1.0</td>\n",
       "    </tr>\n",
       "    <tr>\n",
       "      <th>3</th>\n",
       "      <td>4</td>\n",
       "      <td>9</td>\n",
       "      <td>2.5</td>\n",
       "      <td>1.0</td>\n",
       "    </tr>\n",
       "    <tr>\n",
       "      <th>4</th>\n",
       "      <td>3</td>\n",
       "      <td>11</td>\n",
       "      <td>3.9</td>\n",
       "      <td>0.0</td>\n",
       "    </tr>\n",
       "  </tbody>\n",
       "</table>\n",
       "</div>"
      ],
      "text/plain": [
       "   Programming Languages  Delivered Assignments  GPA  Passed Exam\n",
       "0                      3                      5  3.1          1.0\n",
       "1                      3                      5  2.0          0.0\n",
       "2                      2                      7  3.5          1.0\n",
       "3                      4                      9  2.5          1.0\n",
       "4                      3                     11  3.9          0.0"
      ]
     },
     "execution_count": 10,
     "metadata": {},
     "output_type": "execute_result"
    }
   ],
   "source": [
    "df = pd.read_csv('Exam Data.csv')\n",
    "df.drop('ID', axis=1, inplace=True)\n",
    "df.head()"
   ]
  },
  {
   "cell_type": "code",
   "execution_count": 11,
   "metadata": {},
   "outputs": [
    {
     "name": "stdout",
     "output_type": "stream",
     "text": [
      "Index(['Programming Languages', 'Delivered Assignments', 'GPA', 'Passed Exam'], dtype='object')\n"
     ]
    }
   ],
   "source": [
    "print(df.columns)"
   ]
  },
  {
   "cell_type": "code",
   "execution_count": 28,
   "metadata": {},
   "outputs": [
    {
     "name": "stdout",
     "output_type": "stream",
     "text": [
      "Student No. 9: Nearest neighbors are: [6, 7, 1], their distances are: [1.005, 1.792, 3.164]\n",
      "Student No. 9: Predicted Passed Exam = No\n",
      "\n",
      "Student No. 10: Nearest neighbors are: [6, 7, 1], their distances are: [1.487, 2.1, 2.193]\n",
      "Student No. 10: Predicted Passed Exam = No\n",
      "\n",
      "Student No. 11: Nearest neighbors are: [2, 1, 3], their distances are: [1.414, 1.792, 2.693]\n",
      "Student No. 11: Predicted Passed Exam = Yes\n",
      "\n",
      "Student No. 12: Nearest neighbors are: [1, 2, 3], their distances are: [1.077, 1.803, 2.0]\n",
      "Student No. 12: Predicted Passed Exam = Yes\n",
      "\n"
     ]
    }
   ],
   "source": [
    "features = df[['Programming Languages', 'Delivered Assignments', 'GPA']]\n",
    "features_values = features.values\n",
    "labels = df['Passed Exam']\n",
    "labels_values = labels.values\n",
    "k = 3\n",
    "\n",
    "# Test indices\n",
    "test_indices = [8, 9, 10, 11]\n",
    "\n",
    "for idx in test_indices:\n",
    "    test_instance = features_values[idx]\n",
    "    neighbors = getNearestNeighbors(features_values[:8], test_instance, k)\n",
    "    print(f\"Student No. {idx+1}: Nearest neighbors are: {[n[0]+1 for n in neighbors]}, \"\n",
    "    f\"their distances are: {[round(n[1], 3) for n in neighbors]}\")\n",
    "    neighbor_indices = [n[0] for n in neighbors]\n",
    "    neighbor_labels = [labels_values[i] for i in neighbor_indices]\n",
    "    predicted_label = max(set(neighbor_labels), key=neighbor_labels.count)\n",
    "    if predicted_label == 1.0:\n",
    "        print(f\"Student No. {idx+1}: Predicted Passed Exam = Yes\")\n",
    "    else:\n",
    "        print(f\"Student No. {idx+1}: Predicted Passed Exam = No\")\n",
    "    print()"
   ]
  },
  {
   "cell_type": "code",
   "execution_count": 37,
   "metadata": {},
   "outputs": [
    {
     "name": "stdout",
     "output_type": "stream",
     "text": [
      "Original features:\n",
      "    Programming Languages  Delivered Assignments  GPA\n",
      "0                      3                      5  3.1\n",
      "1                      3                      5  2.0\n",
      "2                      2                      7  3.5\n",
      "3                      4                      9  2.5\n",
      "4                      3                     11  3.9\n",
      "5                      2                      3  2.9\n",
      "6                      3                      3  1.9\n",
      "7                      4                      9  3.2\n",
      "Scaled features using minMaxScaler:\n",
      "    Programming Languages  Delivered Assignments   GPA\n",
      "0                    0.5                   0.25  0.60\n",
      "1                    0.5                   0.25  0.05\n",
      "2                    0.0                   0.50  0.80\n",
      "3                    1.0                   0.75  0.30\n",
      "4                    0.5                   1.00  1.00\n",
      "5                    0.0                   0.00  0.50\n",
      "6                    0.5                   0.00  0.00\n",
      "7                    1.0                   0.75  0.65\n",
      "Original testing features:\n",
      "     Programming Languages  Delivered Assignments  GPA\n",
      "8                       2                      2  3.0\n",
      "9                       3                      3  4.0\n",
      "10                      4                      6  2.0\n",
      "11                      2                      5  3.5\n",
      "Scaled testing features:\n",
      "     Programming Languages  Delivered Assignments   GPA\n",
      "8                     0.0                 -0.125  0.55\n",
      "9                     0.5                  0.000  1.05\n",
      "10                    1.0                  0.375  0.05\n",
      "11                    0.0                  0.250  0.80\n"
     ]
    }
   ],
   "source": [
    "def minMaxScaler(data, scaler):\n",
    "    return (data - scaler.min()) / (scaler.max() - scaler.min())\n",
    "\n",
    "training_features = features[:8]\n",
    "print(\"Original features:\\n\", training_features)\n",
    "\n",
    "scaled_training_features = minMaxScaler(training_features, training_features)\n",
    "print(\"Scaled features using minMaxScaler:\\n\", scaled_training_features)\n",
    "\n",
    "testing_features = features[8:]\n",
    "print(\"Original testing features:\\n\", testing_features)\n",
    "\n",
    "scaled_testing_features = minMaxScaler(testing_features, training_features)\n",
    "print(\"Scaled testing features:\\n\", scaled_testing_features)"
   ]
  },
  {
   "cell_type": "code",
   "execution_count": 46,
   "metadata": {},
   "outputs": [
    {
     "data": {
      "text/html": [
       "<div>\n",
       "<style scoped>\n",
       "    .dataframe tbody tr th:only-of-type {\n",
       "        vertical-align: middle;\n",
       "    }\n",
       "\n",
       "    .dataframe tbody tr th {\n",
       "        vertical-align: top;\n",
       "    }\n",
       "\n",
       "    .dataframe thead th {\n",
       "        text-align: right;\n",
       "    }\n",
       "</style>\n",
       "<table border=\"1\" class=\"dataframe\">\n",
       "  <thead>\n",
       "    <tr style=\"text-align: right;\">\n",
       "      <th></th>\n",
       "      <th>Programming Languages</th>\n",
       "      <th>Delivered Assignments</th>\n",
       "      <th>GPA</th>\n",
       "    </tr>\n",
       "  </thead>\n",
       "  <tbody>\n",
       "    <tr>\n",
       "      <th>0</th>\n",
       "      <td>0.5</td>\n",
       "      <td>0.25</td>\n",
       "      <td>0.60</td>\n",
       "    </tr>\n",
       "    <tr>\n",
       "      <th>1</th>\n",
       "      <td>0.5</td>\n",
       "      <td>0.25</td>\n",
       "      <td>0.05</td>\n",
       "    </tr>\n",
       "    <tr>\n",
       "      <th>2</th>\n",
       "      <td>0.0</td>\n",
       "      <td>0.50</td>\n",
       "      <td>0.80</td>\n",
       "    </tr>\n",
       "    <tr>\n",
       "      <th>3</th>\n",
       "      <td>1.0</td>\n",
       "      <td>0.75</td>\n",
       "      <td>0.30</td>\n",
       "    </tr>\n",
       "    <tr>\n",
       "      <th>4</th>\n",
       "      <td>0.5</td>\n",
       "      <td>1.00</td>\n",
       "      <td>1.00</td>\n",
       "    </tr>\n",
       "    <tr>\n",
       "      <th>5</th>\n",
       "      <td>0.0</td>\n",
       "      <td>0.00</td>\n",
       "      <td>0.50</td>\n",
       "    </tr>\n",
       "    <tr>\n",
       "      <th>6</th>\n",
       "      <td>0.5</td>\n",
       "      <td>0.00</td>\n",
       "      <td>0.00</td>\n",
       "    </tr>\n",
       "    <tr>\n",
       "      <th>7</th>\n",
       "      <td>1.0</td>\n",
       "      <td>0.75</td>\n",
       "      <td>0.65</td>\n",
       "    </tr>\n",
       "  </tbody>\n",
       "</table>\n",
       "</div>"
      ],
      "text/plain": [
       "   Programming Languages  Delivered Assignments   GPA\n",
       "0                    0.5                   0.25  0.60\n",
       "1                    0.5                   0.25  0.05\n",
       "2                    0.0                   0.50  0.80\n",
       "3                    1.0                   0.75  0.30\n",
       "4                    0.5                   1.00  1.00\n",
       "5                    0.0                   0.00  0.50\n",
       "6                    0.5                   0.00  0.00\n",
       "7                    1.0                   0.75  0.65"
      ]
     },
     "execution_count": 46,
     "metadata": {},
     "output_type": "execute_result"
    }
   ],
   "source": [
    "scaled_training_features.head(8)"
   ]
  },
  {
   "cell_type": "code",
   "execution_count": 45,
   "metadata": {},
   "outputs": [
    {
     "data": {
      "text/html": [
       "<div>\n",
       "<style scoped>\n",
       "    .dataframe tbody tr th:only-of-type {\n",
       "        vertical-align: middle;\n",
       "    }\n",
       "\n",
       "    .dataframe tbody tr th {\n",
       "        vertical-align: top;\n",
       "    }\n",
       "\n",
       "    .dataframe thead th {\n",
       "        text-align: right;\n",
       "    }\n",
       "</style>\n",
       "<table border=\"1\" class=\"dataframe\">\n",
       "  <thead>\n",
       "    <tr style=\"text-align: right;\">\n",
       "      <th></th>\n",
       "      <th>Programming Languages</th>\n",
       "      <th>Delivered Assignments</th>\n",
       "      <th>GPA</th>\n",
       "    </tr>\n",
       "  </thead>\n",
       "  <tbody>\n",
       "    <tr>\n",
       "      <th>8</th>\n",
       "      <td>0.0</td>\n",
       "      <td>-0.125</td>\n",
       "      <td>0.55</td>\n",
       "    </tr>\n",
       "    <tr>\n",
       "      <th>9</th>\n",
       "      <td>0.5</td>\n",
       "      <td>0.000</td>\n",
       "      <td>1.05</td>\n",
       "    </tr>\n",
       "    <tr>\n",
       "      <th>10</th>\n",
       "      <td>1.0</td>\n",
       "      <td>0.375</td>\n",
       "      <td>0.05</td>\n",
       "    </tr>\n",
       "    <tr>\n",
       "      <th>11</th>\n",
       "      <td>0.0</td>\n",
       "      <td>0.250</td>\n",
       "      <td>0.80</td>\n",
       "    </tr>\n",
       "  </tbody>\n",
       "</table>\n",
       "</div>"
      ],
      "text/plain": [
       "    Programming Languages  Delivered Assignments   GPA\n",
       "8                     0.0                 -0.125  0.55\n",
       "9                     0.5                  0.000  1.05\n",
       "10                    1.0                  0.375  0.05\n",
       "11                    0.0                  0.250  0.80"
      ]
     },
     "execution_count": 45,
     "metadata": {},
     "output_type": "execute_result"
    }
   ],
   "source": [
    "scaled_testing_features.head()"
   ]
  },
  {
   "cell_type": "code",
   "execution_count": 47,
   "metadata": {},
   "outputs": [
    {
     "name": "stdout",
     "output_type": "stream",
     "text": [
      "Nearest neighbors are: [6, 1, 3], their distances are: [0.135, 0.627, 0.673]\n",
      "Predicted Passed Exam = Yes\n",
      "Nearest neighbors are: [1, 6, 3], their distances are: [0.515, 0.743, 0.75]\n",
      "Predicted Passed Exam = Yes\n",
      "Nearest neighbors are: [4, 2, 7], their distances are: [0.451, 0.515, 0.627]\n",
      "Predicted Passed Exam = No\n",
      "Nearest neighbors are: [3, 6, 1], their distances are: [0.25, 0.391, 0.539]\n",
      "Predicted Passed Exam = Yes\n"
     ]
    }
   ],
   "source": [
    "for item in scaled_testing_features.values:\n",
    "    neighbors = getNearestNeighbors(scaled_training_features.values, item, k)\n",
    "    print(f\"Nearest neighbors are: {[n[0]+1 for n in neighbors]}, \"\n",
    "    f\"their distances are: {[round(n[1], 3) for n in neighbors]}\")\n",
    "    neighbor_indices = [n[0] for n in neighbors]\n",
    "    neighbor_labels = [labels[i] for i in neighbor_indices]\n",
    "    predicted_label = max(set(neighbor_labels), key=neighbor_labels.count)\n",
    "    if predicted_label == 1.0:\n",
    "        print(f\"Predicted Passed Exam = Yes\")\n",
    "    else:\n",
    "        print(f\"Predicted Passed Exam = No\")"
   ]
  },
  {
   "cell_type": "code",
   "execution_count": 54,
   "metadata": {},
   "outputs": [
    {
     "name": "stdout",
     "output_type": "stream",
     "text": [
      "Accuracy: 10.00%\n",
      "Accuracy: 30.00%\n",
      "Accuracy: 70.00%\n",
      "Accuracy: 130.00%\n"
     ]
    }
   ],
   "source": [
    "import numpy as np\n",
    "import pandas as pd\n",
    "\n",
    "# Load data\n",
    "q5_df = pd.read_csv('q5.csv')\n",
    "features_values = q5_df[['x', 'y']].values\n",
    "labels_values = q5_df['label'].values\n",
    "\n",
    "# Define K (can be 1 or other values)\n",
    "ks = [1, 3, 5, 9]\n",
    "\n",
    "# Leave-One-Out Cross Validation (LOO-CV)\n",
    "correct_predictions = 0\n",
    "for k in ks:\n",
    "    for i in range(len(features_values)):\n",
    "        test_instance = features_values[i]\n",
    "\n",
    "        train_features = np.delete(features_values, i, axis=0)\n",
    "        train_labels = np.delete(labels_values, i, axis=0)\n",
    "        \n",
    "        neighbors = getNearestNeighbors(train_features, test_instance, k)\n",
    "        \n",
    "        neighbor_indices = [n[0] for n in neighbors]  # These indices are for the train_features array\n",
    "        neighbor_labels = [train_labels[j] for j in neighbor_indices]\n",
    "        \n",
    "        predicted_label = max(set(neighbor_labels), key=neighbor_labels.count)\n",
    "        if predicted_label == labels_values[i]:\n",
    "            correct_predictions += 1\n",
    "\n",
    "    # Calculate and print accuracy\n",
    "    accuracy = correct_predictions / len(features_values) * 100\n",
    "    print(f\"Accuracy: {accuracy:.2f}%\")\n"
   ]
  }
 ],
 "metadata": {
  "kernelspec": {
   "display_name": "base",
   "language": "python",
   "name": "python3"
  },
  "language_info": {
   "codemirror_mode": {
    "name": "ipython",
    "version": 3
   },
   "file_extension": ".py",
   "mimetype": "text/x-python",
   "name": "python",
   "nbconvert_exporter": "python",
   "pygments_lexer": "ipython3",
   "version": "3.11.5"
  }
 },
 "nbformat": 4,
 "nbformat_minor": 2
}
